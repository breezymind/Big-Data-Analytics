{
 "cells": [
  {
   "cell_type": "markdown",
   "metadata": {},
   "source": [
    "# Table of Contents\n",
    "* [Assignment 9: Data Labeling and Feature Selection](#Assignment-9:-Data-Labeling-and-Feature-Selection)\n",
    "\t* [Overview](#Overview)\n",
    "\t* [Part 1. Data Labeling](#Part-1.-Data-Labeling)\n",
    "\t\t* [Step 1. Read Data](#Step-1.-Read-Data)\n",
    "\t\t* [Step 2. Removing Obviously Non-matching Pairs](#Step-2.-Removing-Obviously-Non-matching-Pairs)\n",
    "\t\t* [Step 3. Active Learning (Task A)](#Step-3.-Active-Learning-%28Task-A%29) \n",
    "\t\t\t* [Featurization](#Featurization)\n",
    "\t\t\t* [Initialization](#Initialization)\n",
    "\t\t\t* [Interactive Model Training](#Interactive-Model-Training)\n",
    "\t\t* [Step 4. Model Evaluation](#Step-4.-Model-Evaluation)\n",
    "    * [Part 2. Feature Selection](#Part-2.-Feature-Selection)\n",
    "        * [Task B. Filter-based Method](#Task-B.-Filter-based-Method)\n",
    "        * [Task C. Principal Component Analysis (PCA)](#Task-C.-Principal-Component-Analysis-%28PCA%29)\n",
    "\t* [Submission](#Submission)\n"
   ]
  },
  {
   "cell_type": "markdown",
   "metadata": {},
   "source": [
    "# Assignment 9: Data Labeling and Feature Selection"
   ]
  },
  {
   "cell_type": "markdown",
   "metadata": {},
   "source": [
    "## Overview"
   ]
  },
  {
   "cell_type": "markdown",
   "metadata": {},
   "source": [
    "Imagine you want to build a classification model for your company. It's not uncommon that you may encounter the following two problems:\n",
    "\n",
    "* There is no training data available; data labeling may cost you a lot of money and time.\n",
    "* The number of features is very large, which may not only lead to long training time but also hurt model generalization. \n",
    "\n",
    "In this assignment, you will learn how to use Active Learning to address the first problem, and learn how to apply a feature selection approach as well as Principal Component Analysis (PCA) to addressing the second one. \n",
    "\n",
    "\n",
    "After completing this assignment, you should be able to answer the following questions:\n",
    "\n",
    "**Data Labeling**\n",
    "1. Why Active Learning?\n",
    "2. How to implement uncertain sampling, a popular query strategy for Active Learning?\n",
    "3. How to solve an ER problem using Active Learning?\n",
    "\n",
    "**Feature Selection**\n",
    "1. Why Feature Selection?\n",
    "2. What are typical Feature Selection approaches?\n",
    "3. How does a filter-based feature selection approach work?\n",
    "4. How does PCA work?\n",
    "5. What're the advantages and disadvantages of PCA? \n"
   ]
  },
  {
   "cell_type": "markdown",
   "metadata": {},
   "source": [
    "## Part 1. Data Labeling"
   ]
  },
  {
   "cell_type": "markdown",
   "metadata": {},
   "source": [
    "[Active learning](http://tiny.cc/al-wiki) is a certain type of ML algorithms that can train a high-quality ML model with small data-labeling cost. Its basic idea is quite easy to understand. Consider a typical supervised ML problem, which requires a (relatively) large training dataset. In the training dataset, there may be only a small number of data points that are beneficial to the trained ML model. In other words, labeling the small number of data points is enough to train a high-quality ML model. The goal of active learning is to help us to identify the data points. \n",
    "\n",
    "\n",
    "In this assignment, we will revisit [Entity Resolution](https://courses.cs.sfu.ca/2017sp-cmpt-733-g1/pages/Lecture_4/view) and develop an Active Learning approach for it. Recall that entity Resolution (ER) is defined as finding different records that refer to the same real-world entity, e.g., \"iPhone 4-th Generation\" vs. \"iPhone Four\". It is central to data integration and cleaning. The following figure shows the architecture of an entity resolution solution. It consists of four major steps. **I will provide you the source code for Steps 1, 2, 4. Your job is to implement Step 3.**  \n",
    "\n",
    "<img src=\"img/arch.png\", width=800/>"
   ]
  },
  {
   "cell_type": "markdown",
   "metadata": {},
   "source": [
    "### Step 1. Read Data"
   ]
  },
  {
   "cell_type": "markdown",
   "metadata": {},
   "source": [
    "The [restaurant data](restaurant.csv) is in a CSV file. Here is the code to read it. "
   ]
  },
  {
   "cell_type": "code",
   "execution_count": 2,
   "metadata": {
    "collapsed": false,
    "scrolled": true
   },
   "outputs": [
    {
     "name": "stdout",
     "output_type": "stream",
     "text": [
      "Num of Rows: 858\n",
      "Header: ['id', 'name', 'address', 'city', 'type']\n",
      "First Row: ['1', \"arnie morton's of chicago\", '435 s. la cienega blv.', 'los angeles', 'american']\n",
      "Second Row: ['2', \"arnie morton's of chicago\", '435 s. la cienega blvd.', 'los angeles', 'steakhouses']\n"
     ]
    }
   ],
   "source": [
    "import csv\n",
    "data = []\n",
    "with open('restaurant.csv', 'r') as csvfile:\n",
    "    reader = csv.reader(csvfile)\n",
    "    header = reader.next() #next() for python2 and __next__() for python3\n",
    "    for row in reader:\n",
    "        data.append(row)\n",
    "print(\"Num of Rows:\", len(data))\n",
    "print(\"Header:\", header)\n",
    "print(\"First Row:\", data[0])\n",
    "print(\"Second Row:\", data[1])"
   ]
  },
  {
   "cell_type": "markdown",
   "metadata": {},
   "source": [
    "From this dataset, you will find many matching record pairs. For example, the first two rows shown above are matching (i.e., refer to the same real-world entity). You can check out all matching record pairs in the [true_matches.json](ground_truth.json) file. "
   ]
  },
  {
   "cell_type": "markdown",
   "metadata": {},
   "source": [
    "### Step 2. Removing Obviously Non-matching Pairs"
   ]
  },
  {
   "cell_type": "markdown",
   "metadata": {},
   "source": [
    "A naive implementation of entity resolution is to enumerate all $n^2$ pairs and check whether they are matching or not. As you've learnt in [Assignment 4](https://rawgit.com/jnwang/cmpt733/master/Assignments/A4/A4-instruction.html), we can avoid $n^2$ comparisons using a similarity-join algorithm. \n",
    "\n",
    "Here is the code. After running the code, you will get 678 similar pairs ordered by their similarity decreasingly."
   ]
  },
  {
   "cell_type": "code",
   "execution_count": 3,
   "metadata": {
    "collapsed": false,
    "scrolled": true
   },
   "outputs": [
    {
     "name": "stdout",
     "output_type": "stream",
     "text": [
      "Num of Pairs:  367653.0\n",
      "Num of Similar Pairs:  678\n",
      "The Most Similar Pair:  (['170', \"mary mac's tea room\", '224 ponce de leon ave.', 'atlanta', 'southern/soul'], ['169', \"mary mac's tea room\", '224 ponce de leon ave.', 'atlanta', 'southern'])\n"
     ]
    }
   ],
   "source": [
    "from a9_utils import *\n",
    "\n",
    "simpairs = simjoin(data)\n",
    "\n",
    "print(\"Num of Pairs: \", len(data)*(len(data)-1)/2)\n",
    "print(\"Num of Similar Pairs: \", len(simpairs))\n",
    "print(\"The Most Similar Pair: \", simpairs[0])"
   ]
  },
  {
   "cell_type": "markdown",
   "metadata": {},
   "source": [
    "We can see that `simjoin` helps us remove the number of pairs from 367653 to 678. But, there are still many non-matching pairs in `simpairs` (see below). "
   ]
  },
  {
   "cell_type": "code",
   "execution_count": 4,
   "metadata": {
    "collapsed": false
   },
   "outputs": [
    {
     "name": "stdout",
     "output_type": "stream",
     "text": [
      "(['764', \"buzio's in the rio\", '3700 w. flamingo rd.', 'las vegas', 'seafood'], ['542', 'carnival world', '3700 w. flamingo rd.', 'las vegas', 'buffets'])\n"
     ]
    }
   ],
   "source": [
    "print(simpairs[-1])"
   ]
  },
  {
   "cell_type": "markdown",
   "metadata": {},
   "source": [
    "Next, we will use active learning to train a classifier, and then use the classifier to classify each pair in `simpairs` as either \"matching\" or \"nonmatching\". "
   ]
  },
  {
   "cell_type": "markdown",
   "metadata": {},
   "source": [
    "### Step 3. Active Learning (Task A)"
   ]
  },
  {
   "cell_type": "markdown",
   "metadata": {},
   "source": [
    "Given a set of similar pairs, what you need to do next is to iteratively train a classifier to decide which pairs are truly matching. We are going to use [logistic regression](https://en.wikipedia.org/wiki/Logistic_regression) as our classifier. "
   ]
  },
  {
   "cell_type": "markdown",
   "metadata": {},
   "source": [
    "#### Featurization"
   ]
  },
  {
   "cell_type": "markdown",
   "metadata": {},
   "source": [
    "To train the model, the first thing you need to think about is how to featurize data. That is, transforming each similar pair to a feature vector. Please use the `featurize()` function for featurization. The function takes a pair as input and returns a vector of 6 features."
   ]
  },
  {
   "cell_type": "code",
   "execution_count": 5,
   "metadata": {
    "collapsed": false
   },
   "outputs": [
    {
     "name": "stdout",
     "output_type": "stream",
     "text": [
      "The feature vector of the first pair:  (1.0, 1.0, 1.0, 1.0, 1.0, 0.6153846153846154)\n"
     ]
    }
   ],
   "source": [
    "from a9_utils import featurize\n",
    "\n",
    "print(\"The feature vector of the first pair: \", featurize(simpairs[0]))"
   ]
  },
  {
   "cell_type": "markdown",
   "metadata": {},
   "source": [
    "#### Initialization"
   ]
  },
  {
   "cell_type": "markdown",
   "metadata": {},
   "source": [
    "At the beginning, all the pairs are unlabeled. To initialize a model, we first pick up ten pairs and then label each pair using  the `crowdsourcing()` function. You can assume that `crowdsourcing()` will ask a crowd worker (e.g., on Amazon Mechanical Turk) to label a pair. \n",
    "\n",
    "\n",
    "`crowdsourcing(pair)` is a function that simulates the use of crowdsourcing to label a pair\n",
    "  \n",
    "  - **Input:**\tpair – A pair of records \n",
    "\n",
    "  - **Output:**\tBoolean –  *True*: The pair of records are matching; *False*: The pair of records are NOT matching;\n",
    "\n",
    "Please use the following code to do the initialization. "
   ]
  },
  {
   "cell_type": "markdown",
   "metadata": {},
   "source": [
    "#### Interactive Model Training"
   ]
  },
  {
   "cell_type": "code",
   "execution_count": 6,
   "metadata": {
    "collapsed": false
   },
   "outputs": [
    {
     "name": "stdout",
     "output_type": "stream",
     "text": [
      "\u001b[1;31mAre they matching?\u001b[0m\n",
      "['170', \"mary mac's tea room\", '224 ponce de leon ave.', 'atlanta', 'southern/soul']\n",
      "['169', \"mary mac's tea room\", '224 ponce de leon ave.', 'atlanta', 'southern']\n",
      "\u001b[1;31mAnswer: Yes\u001b[0m\n",
      "\n",
      "\u001b[1;31mAre they matching?\u001b[0m\n",
      "['88', 'manhattan ocean club', '57 w. 58th st.', 'new york city', 'seafood']\n",
      "['87', 'manhattan ocean club', '57 w. 58th st.', 'new york', 'seafood']\n",
      "\u001b[1;31mAnswer: Yes\u001b[0m\n",
      "\n",
      "\u001b[1;31mAre they matching?\u001b[0m\n",
      "['112', 'san domenico', '240 central park s.', 'new york city', 'italian']\n",
      "['111', 'san domenico', '240 central park s', 'new york', 'italian']\n",
      "\u001b[1;31mAnswer: Yes\u001b[0m\n",
      "\n",
      "\u001b[1;31mAre they matching?\u001b[0m\n",
      "['197', 'fleur de lys', '777 sutter st.', 'san francisco', 'french (new)']\n",
      "['196', 'fleur de lys', '777 sutter st.', 'san francisco', 'french']\n",
      "\u001b[1;31mAnswer: Yes\u001b[0m\n",
      "\n",
      "\u001b[1;31mAre they matching?\u001b[0m\n",
      "['8', 'cafe bizou', '14016 ventura blvd.', 'sherman oaks', 'french bistro']\n",
      "['7', 'cafe bizou', '14016 ventura blvd.', 'sherman oaks', 'french']\n",
      "\u001b[1;31mAnswer: Yes\u001b[0m\n",
      "\n",
      "\u001b[1;31mAre they matching?\u001b[0m\n",
      "['709', 'arcadia', '21 e. 62nd st.', 'new york city', 'american (new)']\n",
      "['66', 'four seasons', '99 e. 52nd st.', 'new york city', 'american (new)']\n",
      "\u001b[1;31mAnswer: No\u001b[0m\n",
      "\n",
      "\u001b[1;31mAre they matching?\u001b[0m\n",
      "['709', 'arcadia', '21 e. 62nd st.', 'new york city', 'american (new)']\n",
      "['70', 'gramercy tavern', '42 e. 20th st.', 'new york city', 'american (new)']\n",
      "\u001b[1;31mAnswer: No\u001b[0m\n",
      "\n",
      "\u001b[1;31mAre they matching?\u001b[0m\n",
      "['729', 'la grenouille', '3 e. 52nd st.', 'new york city', 'french (classic)']\n",
      "['60', 'daniel', '20 e. 76th st.', 'new york city', 'french (new)']\n",
      "\u001b[1;31mAnswer: No\u001b[0m\n",
      "\n",
      "\u001b[1;31mAre they matching?\u001b[0m\n",
      "['733', 'menchanko-tei', '39 w. 55th st.', 'new york city', 'japanese']\n",
      "['76', 'la caravelle', '33 w. 55th st.', 'new york city', 'french (classic)']\n",
      "\u001b[1;31mAnswer: No\u001b[0m\n",
      "\n",
      "\u001b[1;31mAre they matching?\u001b[0m\n",
      "['764', \"buzio's in the rio\", '3700 w. flamingo rd.', 'las vegas', 'seafood']\n",
      "['542', 'carnival world', '3700 w. flamingo rd.', 'las vegas', 'buffets']\n",
      "\u001b[1;31mAnswer: No\u001b[0m\n",
      "\n",
      "Number of matches:  5\n",
      "Number of nonmatches:  5\n"
     ]
    }
   ],
   "source": [
    "from a9_utils import crowdsourcing\n",
    "\n",
    "# choose the most/least similar five pairs as initial training data\n",
    "init_pairs = simpairs[:5] + simpairs[-5:]\n",
    "matches = []\n",
    "nonmatches = []\n",
    "for pair in init_pairs:\n",
    "    is_match = crowdsourcing(pair)\n",
    "    if is_match == True:\n",
    "        matches.append(pair)\n",
    "    else:\n",
    "        nonmatches.append(pair)\n",
    "        \n",
    "print(\"Number of matches: \", len(matches))\n",
    "print(\"Number of nonmatches: \", len(nonmatches))"
   ]
  },
  {
   "cell_type": "markdown",
   "metadata": {},
   "source": [
    "Here is the only code you need to write in Part 1.\n"
   ]
  },
  {
   "cell_type": "code",
   "execution_count": 7,
   "metadata": {
    "collapsed": false,
    "scrolled": true
   },
   "outputs": [
    {
     "name": "stdout",
     "output_type": "stream",
     "text": [
      "\u001b[1;31mAre they matching?\u001b[0m\n",
      "['741', 'palm too', '840 second ave.', 'new york city', 'steakhouses']\n",
      "['740', 'palm', '837 second ave.', 'new york city', 'steakhouses']\n",
      "\u001b[1;31mAnswer: No\u001b[0m\n",
      "\n",
      "\u001b[1;31mAre they matching?\u001b[0m\n",
      "['217', 'ritz-carlton dining room (san francisco)', '600 stockton st.', 'san francisco', 'french (new)']\n",
      "['216', 'ritz-carlton restaurant and dining room', '600 stockton st.', 'san francisco', 'american']\n",
      "\u001b[1;31mAnswer: Yes\u001b[0m\n",
      "\n",
      "\u001b[1;31mAre they matching?\u001b[0m\n",
      "['393', 'le colonial', '149 e. 57th st.', 'new york', 'asian']\n",
      "['392', 'le chantilly', '106 e. 57th st.', 'new york', 'french']\n",
      "\u001b[1;31mAnswer: No\u001b[0m\n",
      "\n",
      "\u001b[1;31mAre they matching?\u001b[0m\n",
      "['84', 'lespinasse (new york city)', '2 e. 55th st.', 'new york city', 'asian']\n",
      "['83', 'lespinasse', '2 e. 55th st.', 'new york', 'american']\n",
      "\u001b[1;31mAnswer: Yes\u001b[0m\n",
      "\n",
      "\u001b[1;31mAre they matching?\u001b[0m\n",
      "['150', \"bone's restaurant\", '3130 piedmont rd. ne', 'atlanta', 'steakhouses']\n",
      "['149', \"bone's\", '3130 piedmont road', 'atlanta', 'american']\n",
      "\u001b[1;31mAnswer: Yes\u001b[0m\n",
      "\n"
     ]
    }
   ],
   "source": [
    "from a9_utils import featurize, crowdsourcing\n",
    "\n",
    "\n",
    "labeled_pairs = matches + nonmatches\n",
    "unlabeled_pairs = [p for p in simpairs if p not in labeled_pairs]\n",
    "iter_num = 5\n",
    "\n",
    "#<-- Write Your Code -->\n",
    "import numpy as np\n",
    "np.random.seed(7)\n",
    "from sklearn.linear_model import LogisticRegression\n",
    "model = LogisticRegression() # default LogisticRegression model with no cross validation for regularization parameter\n",
    "for i in range(iter_num):\n",
    "    # Train model\n",
    "    X_train = list(map(featurize, labeled_pairs))\n",
    "    Y_train = [1]*len(matches) + [0]*len(nonmatches) #1: match, 0: nonmatch\n",
    "    model.fit(X_train, Y_train)\n",
    "\n",
    "    # Predict and get the most uncertain pair\n",
    "    X_test = list(map(featurize, unlabeled_pairs))\n",
    "    Y_certainty = abs(model.decision_function(X_test))\n",
    "    most_undertain_index = np.argmin(Y_certainty)\n",
    "    #print(most_undertain_index)\n",
    "    #Y_prob = model.predict_proba(X_test)\n",
    "    #most_undertain_index2 = np.argmin(abs(Y_prob[:,0]-Y_prob[:,1]))\n",
    "    #print(most_undertain_index2)\n",
    "    #print(X_test[most_undertain_index])\n",
    "    #print(Y_prob[most_undertain_index])\n",
    "    most_undertain_pair = unlabeled_pairs[most_undertain_index]\n",
    "\n",
    "    is_match = crowdsourcing(most_undertain_pair)\n",
    "    if is_match == True:\n",
    "        matches.append(most_undertain_pair)\n",
    "    else:\n",
    "        nonmatches.append(most_undertain_pair)\n",
    "    labeled_pairs = matches + nonmatches\n",
    "    unlabeled_pairs = [p for p in simpairs if p not in labeled_pairs]\n"
   ]
  },
  {
   "cell_type": "markdown",
   "metadata": {},
   "source": [
    "**[Algorithm Description].**   Active learning has many [query strategies](http://tiny.cc/al-wiki-qs) to decide which data point should be labeled. You need to implement uncertain sampling for Task A. The algorithm trains an initial model on `labeled_pairs`. Then, it iteratively trains a model. At each iteration, it first applies the model to `unlabeled_pairs`, and makes a prediction on each unlabeled pair along with a probability, where the probability indicates the confidence of the prediction. After that, it selects the most uncertain pair (If there is still a tie, break it randomly),  and call the `crowdsroucing()` function to label the pair. After the pair is labeled, it updates `labeled_pairs` and `unlabeled_pairs`, and then retrain the model on `labeled_pairs`.\n",
    "\n",
    "**[Input].** \n",
    "- `labeled_pairs`: 10 labeled pairs (by default)\n",
    "- `unlabeled_pairs`: 668 unlabeled pairs (by default)\n",
    "- `iter_num`: 5 (by default)\n",
    "\n",
    "**[Output].** \n",
    "- `model`: A logistic regression model built by scikit-learn\n",
    "\n",
    "\n",
    "**[Hints].**\n",
    "\n",
    "  1. You may need to use [logistic regression](http://scikit-learn.org/stable/modules/generated/sklearn.linear_model.LogisticRegression.html) to train a model.\n",
    "  2. You may need to use [predict_proba(X)](http://scikit-learn.org/stable/modules/generated/sklearn.linear_model.LogisticRegression.html#sklearn.linear_model.LogisticRegression.predict_proba) or  [decision_function(X)](http://scikit-learn.org/stable/modules/generated/sklearn.linear_model.LogisticRegression.html#sklearn.linear_model.LogisticRegression.decision_function) to determine which data point should be labeled at each iteration.\n",
    "\n"
   ]
  },
  {
   "cell_type": "markdown",
   "metadata": {},
   "source": [
    "### Step 4. Model Evaluation"
   ]
  },
  {
   "cell_type": "markdown",
   "metadata": {},
   "source": [
    "[Precision, Recall](https://en.wikipedia.org/wiki/Precision_and_recall), [F-Score](https://en.wikipedia.org/wiki/F1_score) are commonly used to evaluate an entity-resolution result. After training an model, you can use the following code to evalute it."
   ]
  },
  {
   "cell_type": "code",
   "execution_count": 8,
   "metadata": {
    "collapsed": false
   },
   "outputs": [
    {
     "name": "stdout",
     "output_type": "stream",
     "text": [
      "Precision: 0.9056603773584906\n",
      "Recall: 0.9056603773584906\n",
      "Fscore: 0.9056603773584906\n"
     ]
    }
   ],
   "source": [
    "import json\n",
    "from a9_utils import evaluate\n",
    "\n",
    "            \n",
    "sp_features = np.array([featurize(sp) for sp in simpairs])\n",
    "label = model.predict(sp_features)\n",
    "pair_label = zip(simpairs, label)\n",
    "\n",
    "identified_matches = []\n",
    "for pair, label in pair_label:\n",
    "    if label == 1:\n",
    "        identified_matches.append(pair)\n",
    "        \n",
    "precision, recall, fscore = evaluate(identified_matches)\n",
    "\n",
    "print(\"Precision:\", precision)\n",
    "print(\"Recall:\", recall)\n",
    "print(\"Fscore:\", fscore)\n",
    "   "
   ]
  },
  {
   "cell_type": "markdown",
   "metadata": {},
   "source": [
    "## Part 2. Feature Selection"
   ]
  },
  {
   "cell_type": "markdown",
   "metadata": {},
   "source": [
    "Feature selection and dimensionality reduction have been extensively studied in the ML community. Due to time constraints, I only designed two simple tasks for you to get familiar with these topics. If you want to know more, please refer to Prof. Michael Jordan's [Practical Machine Learning](https://people.eecs.berkeley.edu/~jordan/courses/294-fall09/) course at UC Berkeley. "
   ]
  },
  {
   "cell_type": "markdown",
   "metadata": {},
   "source": [
    "### Task B. Filter-based Feature Selection"
   ]
  },
  {
   "cell_type": "markdown",
   "metadata": {},
   "source": [
    "There are [three classes](https://en.wikipedia.org/wiki/Feature_selection#Main_principles) of feature-selection methods: filter-based, wrapper-based, and embeded-based. Filter-based is the most simple one. Its basic idea is to assign heuristic score to each feature to filter out the \"obviously\" useless ones. There are many ways to compute the score, e.g., chi-squared, information gain, correlation, and mutual information. We use [chi-squared](http://scikit-learn.org/stable/modules/generated/sklearn.feature_selection.chi2.html) for Task B. \n",
    "\n",
    "Imagine you have a collection of newsgroup documents, and you want to build a classification model to predicate the topic of each newsgroup document: \"comp.graphics (0)\" or \"sci.space (1)\". You use bag of words to represent each document. That is, each feature is a single word. I have already helped you load the dataset and generated the feature vectors (see the code below). "
   ]
  },
  {
   "cell_type": "code",
   "execution_count": 9,
   "metadata": {
    "collapsed": false,
    "scrolled": true
   },
   "outputs": [
    {
     "name": "stdout",
     "output_type": "stream",
     "text": [
      "Target Labels: ['comp.graphics', 'sci.space']\n",
      "(NSamples, NFeatures): (1177, 19493)\n"
     ]
    }
   ],
   "source": [
    "from sklearn.datasets import fetch_20newsgroups\n",
    "from sklearn.feature_extraction.text import TfidfVectorizer\n",
    "\n",
    "\n",
    "data_train = fetch_20newsgroups(subset='train', categories=['comp.graphics','sci.space'],\n",
    "                                shuffle=True, random_state=42,\n",
    "                                remove=('headers', 'footers', 'quotes'))\n",
    "\n",
    "vectorizer = TfidfVectorizer()\n",
    "X = vectorizer.fit_transform(data_train.data)\n",
    "y = data_train.target\n",
    "\n",
    "print(\"Target Labels:\", data_train.target_names)\n",
    "print(\"(NSamples, NFeatures):\", X.shape)\n"
   ]
  },
  {
   "cell_type": "markdown",
   "metadata": {},
   "source": [
    "From the output of the above code, you find that the number of features (19493) is very large, so you want to use filter-based method to choose the top-10 words as your features. \n",
    "\n",
    "Please write your code below. The code computes chi-squared stat between each feature and the target label, and return the top-10 words with the highest score. "
   ]
  },
  {
   "cell_type": "code",
   "execution_count": 10,
   "metadata": {
    "collapsed": false
   },
   "outputs": [
    {
     "name": "stdout",
     "output_type": "stream",
     "text": [
      "Top 10 words in ascending order:\n",
      "['3d', 'files', 'moon', 'orbit', 'windows', 'nasa', 'image', 'file', 'graphics', 'space']\n"
     ]
    }
   ],
   "source": [
    "from sklearn.feature_selection import SelectKBest, chi2\n",
    "import numpy as np\n",
    "\n",
    "#<-- Write Your Code -->\n",
    "# determine top 10 features\n",
    "feature_selection_model = SelectKBest(score_func=chi2, k=10)\n",
    "feature_selection_model.fit(X, y)\n",
    "feature_scores = feature_selection_model.scores_\n",
    "sorted_scores_indices = np.argsort(feature_scores)\n",
    "top10_indices = sorted_scores_indices[-10:]\n",
    "#print(top10_indices)\n",
    "\n",
    "# lookup words corresponding to top 10 features\n",
    "vocab = vectorizer.vocabulary_\n",
    "def lookup_word(x):\n",
    "    return str(list(vocab.keys())[list(vocab.values()).index(x)])\n",
    "top10_words = list(map(lookup_word, top10_indices))\n",
    "print(\"Top 10 words in ascending order:\")\n",
    "print(top10_words)"
   ]
  },
  {
   "cell_type": "markdown",
   "metadata": {},
   "source": [
    "### Task C. Principal Component Analysis (PCA)"
   ]
  },
  {
   "cell_type": "markdown",
   "metadata": {},
   "source": [
    "PCA is a well-known dimensionality reduction algorithm. Obviously, we can use PCA to transform each feature vector to a 10-D feature vector. See the code below. "
   ]
  },
  {
   "cell_type": "code",
   "execution_count": 12,
   "metadata": {
    "collapsed": false
   },
   "outputs": [
    {
     "name": "stdout",
     "output_type": "stream",
     "text": [
      "[ 0.01690229  0.0079923   0.00645211  0.00520685  0.00477417  0.00446193\n",
      "  0.00416373  0.00391634  0.00380895  0.00365586]\n"
     ]
    }
   ],
   "source": [
    "import numpy as np\n",
    "from sklearn.decomposition import PCA\n",
    "\n",
    "pca = PCA(n_components=10)\n",
    "pca.fit(X.toarray())\n",
    "print(pca.explained_variance_ratio_)"
   ]
  },
  {
   "cell_type": "markdown",
   "metadata": {},
   "source": [
    "Both filter-based feature selection and PCA can help us reduce the number of features in a feature vector. The question is what's the difference between them. In this task, you don't need to write any code. Just let me know what you think about the advantages and disadvantages of PCA compared to filter-based feature section. Please list (at least) two advantages and two disadvantages. "
   ]
  },
  {
   "cell_type": "markdown",
   "metadata": {},
   "source": [
    "## Submission"
   ]
  },
  {
   "cell_type": "markdown",
   "metadata": {},
   "source": [
    "Download [A9.zip](A9.zip). For Task A and Task B, please directly write your code on the `A9.ipynb` notebook. For Task C, please write your answers to a file named \"PCA.txt\". Create a zip package, named `A9-final.zip`, with the updated `A9.ipynb`, the newly added \"PCA.txt\", and three existing files (`restaurant.csv`, ` true_matches.json`, and `a9_utils.py`) inside. Please submit `A9-final.zip` to the CourSys activity [Assignment 9](https://courses.cs.sfu.ca/2017sp-cmpt-733-g1/+a9/)."
   ]
  }
 ],
 "metadata": {
  "anaconda-cloud": {},
  "kernelspec": {
   "display_name": "Python [conda root]",
   "language": "python",
   "name": "conda-root-py"
  },
  "language_info": {
   "codemirror_mode": {
    "name": "ipython",
    "version": 3
   },
   "file_extension": ".py",
   "mimetype": "text/x-python",
   "name": "python",
   "nbconvert_exporter": "python",
   "pygments_lexer": "ipython3",
   "version": "3.5.2"
  }
 },
 "nbformat": 4,
 "nbformat_minor": 0
}
