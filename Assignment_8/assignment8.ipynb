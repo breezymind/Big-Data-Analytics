{
 "cells": [
  {
   "cell_type": "code",
   "execution_count": 4,
   "metadata": {
    "collapsed": false
   },
   "outputs": [],
   "source": [
    "import boto3\n",
    "# AWSAccessKeyId, AWSSecretKey and Region are specified using AWS CLI\n",
    "s3 = boto3.resource('s3')"
   ]
  },
  {
   "cell_type": "code",
   "execution_count": 8,
   "metadata": {
    "collapsed": false
   },
   "outputs": [],
   "source": [
    "# Download 'playbyplay20120510040.zip' file from S3 to local\n",
    "bucket_name = 'liambui'\n",
    "file_name = 'playbyplay20120510040.zip'\n",
    "s3.meta.client.download_file(bucket_name, file_name, file_name)"
   ]
  },
  {
   "cell_type": "code",
   "execution_count": 17,
   "metadata": {
    "collapsed": false
   },
   "outputs": [],
   "source": [
    "# create new file bryant.txt\n",
    "output_file_name = 'bryant.txt'\n",
    "output_file = open(output_file_name, 'w+')\n",
    "\n",
    "# read zip file and write lines containing 'bryant' to newFile\n",
    "import zipfile\n",
    "with zipfile.ZipFile(file_name) as z:\n",
    "    for textfile in z.namelist():\n",
    "        with z.open(textfile) as f:\n",
    "            for line in f:\n",
    "                if line.lower().find('bryant') > -1:\n",
    "                    output_file.write(line)\n",
    "output_file.close()"
   ]
  },
  {
   "cell_type": "code",
   "execution_count": 18,
   "metadata": {
    "collapsed": true
   },
   "outputs": [],
   "source": [
    "# Upload 'bryant.txt' to S3\n",
    "s3.meta.client.upload_file(output_file_name, bucket_name, output_file_name)"
   ]
  }
 ],
 "metadata": {
  "kernelspec": {
   "display_name": "Python 2",
   "language": "python",
   "name": "python2"
  },
  "language_info": {
   "codemirror_mode": {
    "name": "ipython",
    "version": 2
   },
   "file_extension": ".py",
   "mimetype": "text/x-python",
   "name": "python",
   "nbconvert_exporter": "python",
   "pygments_lexer": "ipython2",
   "version": "2.7.13"
  }
 },
 "nbformat": 4,
 "nbformat_minor": 2
}
